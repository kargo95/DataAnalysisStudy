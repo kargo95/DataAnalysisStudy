{
 "cells": [
  {
   "cell_type": "code",
   "execution_count": 1,
   "metadata": {},
   "outputs": [],
   "source": [
    "import numpy as np"
   ]
  },
  {
   "cell_type": "code",
   "execution_count": 3,
   "metadata": {},
   "outputs": [
    {
     "name": "stdout",
     "output_type": "stream",
     "text": [
      "[[1.01735266 2.13342328 0.89816666]\n",
      " [0.51536739 1.94778339 0.11904835]]\n"
     ]
    }
   ],
   "source": [
    "data = np.random.randn(2,3) #shape가 [2,3] 인 배열객체를 가우시안 표준정규 분포에서의 랜덤값으로 초기화\n",
    "print(data)"
   ]
  },
  {
   "cell_type": "code",
   "execution_count": 5,
   "metadata": {},
   "outputs": [
    {
     "name": "stdout",
     "output_type": "stream",
     "text": [
      "[[10.17352664 21.33423285  8.98166664]\n",
      " [ 5.15367392 19.47783389  1.19048354]]\n"
     ]
    }
   ],
   "source": [
    "print(data*10) #data의 모든 행렬에 10을 곱함"
   ]
  },
  {
   "cell_type": "code",
   "execution_count": 7,
   "metadata": {},
   "outputs": [
    {
     "name": "stdout",
     "output_type": "stream",
     "text": [
      "[[2.03470533 4.26684657 1.79633333]\n",
      " [1.03073478 3.89556678 0.23809671]]\n"
     ]
    }
   ],
   "source": [
    "print(data+data) #행렬덧셈"
   ]
  },
  {
   "cell_type": "code",
   "execution_count": 10,
   "metadata": {},
   "outputs": [
    {
     "name": "stdout",
     "output_type": "stream",
     "text": [
      "(2, 3)\n",
      "float64\n"
     ]
    }
   ],
   "source": [
    "print(data.shape) # shape\n",
    "print(data.dtype) # type"
   ]
  }
 ],
 "metadata": {
  "kernelspec": {
   "display_name": "Python 3",
   "language": "python",
   "name": "python3"
  },
  "language_info": {
   "codemirror_mode": {
    "name": "ipython",
    "version": 3
   },
   "file_extension": ".py",
   "mimetype": "text/x-python",
   "name": "python",
   "nbconvert_exporter": "python",
   "pygments_lexer": "ipython3",
   "version": "3.6.9"
  }
 },
 "nbformat": 4,
 "nbformat_minor": 2
}
