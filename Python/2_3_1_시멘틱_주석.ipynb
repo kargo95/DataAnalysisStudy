{
 "cells": [
  {
   "cell_type": "code",
   "execution_count": 8,
   "metadata": {},
   "outputs": [
    {
     "name": "stdout",
     "output_type": "stream",
     "text": [
      "[1, 2, 3, 4]\n",
      "[5, 6, 7, 8, 9, 10]\n"
     ]
    }
   ],
   "source": [
    "array =[1,2,3,4,5,6,7,8,9,10]\n",
    "pivot =5\n",
    "less=[]\n",
    "greater=[]\n",
    "for x in array:\n",
    "    if x< pivot:\n",
    "        less.append(x)\n",
    "    #아래코드 실행 안됨\n",
    "#     else:\n",
    "#         greater.append(x)\n",
    "\"\"\"\n",
    "블럭주석(권장아님)\n",
    "\"\"\"\n",
    "        \n",
    "print(less)\n",
    "print(greater)"
   ]
  }
 ],
 "metadata": {
  "kernelspec": {
   "display_name": "Python 3",
   "language": "python",
   "name": "python3"
  },
  "language_info": {
   "codemirror_mode": {
    "name": "ipython",
    "version": 3
   },
   "file_extension": ".py",
   "mimetype": "text/x-python",
   "name": "python",
   "nbconvert_exporter": "python",
   "pygments_lexer": "ipython3",
   "version": "3.6.9"
  }
 },
 "nbformat": 4,
 "nbformat_minor": 2
}
