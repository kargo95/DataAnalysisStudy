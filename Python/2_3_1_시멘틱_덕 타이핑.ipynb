{
 "cells": [
  {
   "cell_type": "code",
   "execution_count": 3,
   "metadata": {},
   "outputs": [
    {
     "name": "stdout",
     "output_type": "stream",
     "text": [
      "True\n",
      "True\n",
      "False\n"
     ]
    }
   ],
   "source": [
    "#덕타이핑 : 객체가 어떤 메서드나 행동을 지원하는지만 알고싶은 경우\n",
    "\n",
    "\n",
    "#예) 어떤 객체가 이터레이터를 지원하는지 알고싶을 때\n",
    "def isiterable(obj):\n",
    "    try:\n",
    "        iter(obj)\n",
    "        return True\n",
    "    except TypeError: #iterable객체가 아님\n",
    "        return False\n",
    "    \n",
    "print(isiterable('a string'))\n",
    "print(isiterable([1,2,3]))\n",
    "print(isiterable(5))"
   ]
  }
 ],
 "metadata": {
  "kernelspec": {
   "display_name": "Python 3",
   "language": "python",
   "name": "python3"
  },
  "language_info": {
   "codemirror_mode": {
    "name": "ipython",
    "version": 3
   },
   "file_extension": ".py",
   "mimetype": "text/x-python",
   "name": "python",
   "nbconvert_exporter": "python",
   "pygments_lexer": "ipython3",
   "version": "3.6.9"
  }
 },
 "nbformat": 4,
 "nbformat_minor": 2
}
