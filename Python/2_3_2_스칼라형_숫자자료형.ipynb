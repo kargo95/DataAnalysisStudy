{
 "cells": [
  {
   "cell_type": "code",
   "execution_count": 4,
   "metadata": {},
   "outputs": [
    {
     "name": "stdout",
     "output_type": "stream",
     "text": [
      "26254519291092456596965462913230729701102721\n",
      "7.243\n",
      "6.78e-05\n",
      "1.5\n",
      "1\n"
     ]
    }
   ],
   "source": [
    "#파이썬의 숫자 자료형: int, float\n",
    "ival = 17239871 #int\n",
    "print(ival **6)\n",
    "\n",
    "fval = 7.243 #float\n",
    "fval2 = 6.78e-5 #float #과학표기법으로도 가능\n",
    "print(fval)\n",
    "print(fval2)\n",
    "\n",
    "print(3/2) #정수의 나눗셈은 소수점으로 반환\n",
    "print(3//2) #//연산자를 사용하면 정수로 뱐환"
   ]
  }
 ],
 "metadata": {
  "kernelspec": {
   "display_name": "Python 3",
   "language": "python",
   "name": "python3"
  },
  "language_info": {
   "codemirror_mode": {
    "name": "ipython",
    "version": 3
   },
   "file_extension": ".py",
   "mimetype": "text/x-python",
   "name": "python",
   "nbconvert_exporter": "python",
   "pygments_lexer": "ipython3",
   "version": "3.6.9"
  }
 },
 "nbformat": 4,
 "nbformat_minor": 2
}
