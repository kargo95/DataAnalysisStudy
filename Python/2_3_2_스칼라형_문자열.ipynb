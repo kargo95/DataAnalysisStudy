{
 "cells": [
  {
   "cell_type": "code",
   "execution_count": 6,
   "metadata": {},
   "outputs": [
    {
     "name": "stdout",
     "output_type": "stream",
     "text": [
      "문자열을 작은 따옴표로 감쌈\n",
      "문자열을 처리하는 다른 방법\n",
      "\n",
      "여러줄에 걸친 문자열은\n",
      "따옴표 세개로 둘러싼다\n",
      "\n",
      "3\n"
     ]
    }
   ],
   "source": [
    "a = '문자열을 작은 따옴표로 감쌈'\n",
    "b = \"문자열을 처리하는 다른 방법\"\n",
    "c = \"\"\"\n",
    "여러줄에 걸친 문자열은\n",
    "따옴표 세개로 둘러싼다\n",
    "\"\"\"\n",
    "\n",
    "print(a)\n",
    "print(b)\n",
    "print(c) #4줄로 출력된다. \"\"\"뒤에오는 개행문자도 c에 포함\"\"\"\n",
    "print(c.count('\\n')) #개행문자의 개수"
   ]
  },
  {
   "cell_type": "code",
   "execution_count": 11,
   "metadata": {},
   "outputs": [
    {
     "name": "stdout",
     "output_type": "stream",
     "text": [
      "5.6\n"
     ]
    }
   ],
   "source": [
    "a=5.6\n",
    "s=str(a) #str함수를 통하여 문자열로 변한\n",
    "print(s)"
   ]
  },
  {
   "cell_type": "code",
   "execution_count": 17,
   "metadata": {},
   "outputs": [
    {
     "name": "stdout",
     "output_type": "stream",
     "text": [
      "['p', 'y', 't', 'h', 'o', 'n']\n",
      "pyt\n"
     ]
    }
   ],
   "source": [
    "#슬라이싱\n",
    "s='python'\n",
    "print(list(s))\n",
    "print(s[:3]) #문자열 s를 처음(0)부터 3미만까지 잘라라"
   ]
  },
  {
   "cell_type": "code",
   "execution_count": 23,
   "metadata": {},
   "outputs": [
    {
     "name": "stdout",
     "output_type": "stream",
     "text": [
      "12\\34\n",
      "this\\has\n",
      "o\\special\\characters\n",
      "this\\has\\no\\special\\characters\n"
     ]
    }
   ],
   "source": [
    "#이스케이프 문자\n",
    "s= '12\\\\34'\n",
    "print(s)\n",
    "\n",
    "a= 'this\\has\\no\\special\\characters' #\\n이 줄바꿈으로 인식됨\n",
    "s= r'this\\has\\no\\special\\characters' #문자열 앞에 r을 사용하여 문자열을 있는 그대로 해석( r =raw를 뜻함)\n",
    "print(a)\n",
    "print(s)"
   ]
  },
  {
   "cell_type": "code",
   "execution_count": 27,
   "metadata": {},
   "outputs": [
    {
     "name": "stdout",
     "output_type": "stream",
     "text": [
      "this is the first half and this is the second half\n"
     ]
    }
   ],
   "source": [
    "#문자열 더하기\n",
    "a = 'this is the first half '\n",
    "b = 'and this is the second half'\n",
    "print(a+b)"
   ]
  },
  {
   "cell_type": "code",
   "execution_count": 29,
   "metadata": {},
   "outputs": [
    {
     "name": "stdout",
     "output_type": "stream",
     "text": [
      "4.56Argentine Pesos are worth US$1\n"
     ]
    }
   ],
   "source": [
    "#문자열 템플릿\n",
    "template = '{0:.2f}{1:s} are worth US${2:d}'\n",
    "# {0:.2f} : 첫번째 인자를 소수점 아래 2자리 까지만 표시\n",
    "# {1:s} : 두번째 인자가 문자열이라는 의미\n",
    "# {2:d} : 세번째 인자가 정수라는 의미\n",
    "\n",
    "print(template.format(4.5560,'Argentine Pesos',1))"
   ]
  }
 ],
 "metadata": {
  "kernelspec": {
   "display_name": "Python 3",
   "language": "python",
   "name": "python3"
  },
  "language_info": {
   "codemirror_mode": {
    "name": "ipython",
    "version": 3
   },
   "file_extension": ".py",
   "mimetype": "text/x-python",
   "name": "python",
   "nbconvert_exporter": "python",
   "pygments_lexer": "ipython3",
   "version": "3.6.9"
  }
 },
 "nbformat": 4,
 "nbformat_minor": 2
}
