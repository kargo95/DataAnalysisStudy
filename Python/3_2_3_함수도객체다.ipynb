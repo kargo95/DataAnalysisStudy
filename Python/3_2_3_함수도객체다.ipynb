{
 "cells": [
  {
   "cell_type": "code",
   "execution_count": 11,
   "metadata": {},
   "outputs": [
    {
     "name": "stdout",
     "output_type": "stream",
     "text": [
      "['Alabama', 'Georgia', 'Georgia', 'Georgia', 'Florida', 'Southcarolina', 'West Virginia']\n"
     ]
    }
   ],
   "source": [
    "#다음처럼 엉망인 데이터를 정형화 시켜야 하는 상황\n",
    "states=[' Alabama ','Georgia!','Georgia','georgia','FlOrIda','southcarolina##','West virginia?']\n",
    "#내장 문자열 메서드와 정규 표현식을 위한 re표준 라이브러리를 이용\n",
    "import re\n",
    "\n",
    "def remove_punctuation(value):\n",
    "    return re.sub('[!#?]','',value) #value에서 []안에있는 문자를 ,''바꾼다\n",
    "\n",
    "\n",
    "def clean_strings(strings,ops):\n",
    "    result = []\n",
    "    for value in strings:\n",
    "        for function in ops:\n",
    "            value=function(value)\n",
    "        result.append(value)\n",
    "    return result\n",
    "\n",
    "clean_ops = [str.strip,remove_punctuation,str.title]\n",
    "#str.strip : 앞뒤 공백문자 제거\n",
    "#str.title : 맨 앞을 대문자\n",
    "\n",
    "print(clean_strings(states,clean_ops))\n"
   ]
  },
  {
   "cell_type": "code",
   "execution_count": 12,
   "metadata": {},
   "outputs": [
    {
     "name": "stdout",
     "output_type": "stream",
     "text": [
      " Alabama \n",
      "Georgia\n",
      "Georgia\n",
      "georgia\n",
      "FlOrIda\n",
      "southcarolina\n",
      "West virginia\n"
     ]
    }
   ],
   "source": [
    "for x in map(remove_punctuation,states): #이 구문으로도 가능\n",
    "    print(x)"
   ]
  }
 ],
 "metadata": {
  "kernelspec": {
   "display_name": "Python 3",
   "language": "python",
   "name": "python3"
  },
  "language_info": {
   "codemirror_mode": {
    "name": "ipython",
    "version": 3
   },
   "file_extension": ".py",
   "mimetype": "text/x-python",
   "name": "python",
   "nbconvert_exporter": "python",
   "pygments_lexer": "ipython3",
   "version": "3.6.9"
  }
 },
 "nbformat": 4,
 "nbformat_minor": 2
}
