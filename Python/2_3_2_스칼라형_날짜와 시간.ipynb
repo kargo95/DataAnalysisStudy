{
 "cells": [
  {
   "cell_type": "code",
   "execution_count": 10,
   "metadata": {},
   "outputs": [
    {
     "name": "stdout",
     "output_type": "stream",
     "text": [
      "29\n",
      "30\n",
      "2011-10-29\n",
      "20:30:21\n",
      "10/29/2011 20:30\n",
      "2009-10-31 00:00:00\n",
      "2011-10-29 20:00:00\n"
     ]
    }
   ],
   "source": [
    "from datetime import datetime, date ,time\n",
    "dt = datetime(2011,10,29,20,30,21) #년 월 일 시 분 초\n",
    "print(dt.day)\n",
    "print(dt.minute)\n",
    "print(dt.date())\n",
    "print(dt.time())\n",
    "\n",
    "print(dt.strftime('%m/%d/%Y %H:%M')) #date을 문자열로 형변환\n",
    "print(datetime.strptime('20091031','%Y%m%d')) #문자열을 date으로 형변환\n",
    "newDate = dt.replace(minute=0,second=0) #분과 초를 0으로 바꾼 새로운 객체 생성(datetime객체 자체는 변경 불가, 항상 새로운 객체 생성)\n",
    "print(newDate)\n"
   ]
  },
  {
   "cell_type": "code",
   "execution_count": 12,
   "metadata": {},
   "outputs": [
    {
     "name": "stdout",
     "output_type": "stream",
     "text": [
      "17 days, 1:59:39\n",
      "<class 'datetime.timedelta'>\n"
     ]
    }
   ],
   "source": [
    "dt2 = datetime(2011,11,15,22,30)\n",
    "delta = dt2 -dt\n",
    "print(delta) #두 시간의 차\n",
    "print(type(delta))"
   ]
  }
 ],
 "metadata": {
  "kernelspec": {
   "display_name": "Python 3",
   "language": "python",
   "name": "python3"
  },
  "language_info": {
   "codemirror_mode": {
    "name": "ipython",
    "version": 3
   },
   "file_extension": ".py",
   "mimetype": "text/x-python",
   "name": "python",
   "nbconvert_exporter": "python",
   "pygments_lexer": "ipython3",
   "version": "3.6.9"
  }
 },
 "nbformat": 4,
 "nbformat_minor": 2
}
