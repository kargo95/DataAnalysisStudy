{
 "cells": [
  {
   "cell_type": "code",
   "execution_count": 3,
   "metadata": {},
   "outputs": [
    {
     "name": "stdout",
     "output_type": "stream",
     "text": [
      "['aaaa', 'foo', 'abab', 'bar', 'card']\n"
     ]
    }
   ],
   "source": [
    "#익명 혹은 람다함수라고 하는 함수는\n",
    "#한 문장으로 이루어진 함수이다\n",
    "\n",
    "strings = ['foo','card','bar','aaaa','abab']\n",
    "strings.sort(key=lambda x: len(set(list(x))))\n",
    "print(strings)"
   ]
  }
 ],
 "metadata": {
  "kernelspec": {
   "display_name": "Python 3",
   "language": "python",
   "name": "python3"
  },
  "language_info": {
   "codemirror_mode": {
    "name": "ipython",
    "version": 3
   },
   "file_extension": ".py",
   "mimetype": "text/x-python",
   "name": "python",
   "nbconvert_exporter": "python",
   "pygments_lexer": "ipython3",
   "version": "3.6.9"
  }
 },
 "nbformat": 4,
 "nbformat_minor": 2
}
