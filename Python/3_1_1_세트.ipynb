{
 "cells": [
  {
   "cell_type": "code",
   "execution_count": 4,
   "metadata": {},
   "outputs": [
    {
     "name": "stdout",
     "output_type": "stream",
     "text": [
      "{1, 2, 3}\n",
      "{1, 2, 3}\n"
     ]
    }
   ],
   "source": [
    "#정의\n",
    "a = set([2,2,2,1,3,3]) #set함수를 사용하여 정의\n",
    "print(a)\n",
    "b = {2,2,2,1,3,3} #중가로를 사용하여 정의\n",
    "print(b)"
   ]
  },
  {
   "cell_type": "code",
   "execution_count": 12,
   "metadata": {},
   "outputs": [
    {
     "name": "stdout",
     "output_type": "stream",
     "text": [
      "{1, 2, 3, 4, 5, 6, 7, 8}\n",
      "{1, 2, 3, 4, 5, 6, 7, 8}\n",
      "{3, 4, 5}\n",
      "{3, 4, 5}\n",
      "{1, 2, 3, 4, 5, 6, 7, 8}\n",
      "{3, 4, 5}\n"
     ]
    }
   ],
   "source": [
    "#집합연산\n",
    "a = {1,2,3,4,5}\n",
    "b = {3,4,5,6,7,8}\n",
    "\n",
    "#합집함\n",
    "union=a.union(b) #함수이용\n",
    "print(union)\n",
    "union = a | b #이항연산자 이용\n",
    "print(union)\n",
    "\n",
    "#교집합\n",
    "intersection = a.intersection(b) #함수이용\n",
    "print(intersection)\n",
    "intersection = a & b #이항연산자 이용\n",
    "print(intersection)\n",
    "\n",
    "#page 107쪽에 더 많은 집합연산표\n",
    "\n",
    "c= a.copy()\n",
    "c|=b #c는 c와b의 합집합\n",
    "print(c)\n",
    "\n",
    "d=a.copy()\n",
    "d &=b #d는 d와b의 교집합\n",
    "print(d)"
   ]
  },
  {
   "cell_type": "code",
   "execution_count": 14,
   "metadata": {},
   "outputs": [
    {
     "name": "stdout",
     "output_type": "stream",
     "text": [
      "{(1, 2, 3, 4)}\n"
     ]
    }
   ],
   "source": [
    "#세트에 리스트같은 원소 넣기\n",
    "#튜플로 변경해야함\n",
    "my_data = [1,2,3,4]\n",
    "my_set = {tuple(my_data)}\n",
    "print(my_set)"
   ]
  },
  {
   "cell_type": "code",
   "execution_count": 19,
   "metadata": {},
   "outputs": [
    {
     "name": "stdout",
     "output_type": "stream",
     "text": [
      "True\n",
      "True\n",
      "True\n"
     ]
    }
   ],
   "source": [
    "#부분집합,확대집합,동일한지비교\n",
    "a_set = {1,2,3,4,5}\n",
    "print({1,2,3}.issubset(a_set)) #{1,2,3}은 a_set의 부분집합인가?\n",
    "print(a_set.issuperset({1,2,3})) #a_set은 {1,2,3}의 확대집합인가?\n",
    "print({1,2,3} == {3,2,1}) #두 집합은 동일한가?"
   ]
  },
  {
   "cell_type": "code",
   "execution_count": null,
   "metadata": {},
   "outputs": [],
   "source": []
  }
 ],
 "metadata": {
  "kernelspec": {
   "display_name": "Python 3",
   "language": "python",
   "name": "python3"
  },
  "language_info": {
   "codemirror_mode": {
    "name": "ipython",
    "version": 3
   },
   "file_extension": ".py",
   "mimetype": "text/x-python",
   "name": "python",
   "nbconvert_exporter": "python",
   "pygments_lexer": "ipython3",
   "version": "3.6.9"
  }
 },
 "nbformat": 4,
 "nbformat_minor": 2
}
