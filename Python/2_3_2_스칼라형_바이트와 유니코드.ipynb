{
 "cells": [
  {
   "cell_type": "code",
   "execution_count": 8,
   "metadata": {},
   "outputs": [
    {
     "name": "stdout",
     "output_type": "stream",
     "text": [
      "español\n",
      "b'espa\\xc3\\xb1ol'\n",
      "<class 'bytes'>\n",
      "español\n"
     ]
    }
   ],
   "source": [
    "val = \"español\"\n",
    "print(val)\n",
    "\n",
    "val_utf8 = val.encode('utf-8')#unicode -> UTF-8바이트 표현\n",
    "print(val_utf8)\n",
    "print(type(val_utf8))\n",
    "\n",
    "print(val_utf8.decode('utf-8'))#UTF-8 -> unicode"
   ]
  },
  {
   "cell_type": "code",
   "execution_count": 12,
   "metadata": {},
   "outputs": [
    {
     "name": "stdout",
     "output_type": "stream",
     "text": [
      "b'espa\\xf1ol'\n",
      "b'\\xff\\xfee\\x00s\\x00p\\x00a\\x00\\xf1\\x00o\\x00l\\x00'\n",
      "b'e\\x00s\\x00p\\x00a\\x00\\xf1\\x00o\\x00l\\x00'\n"
     ]
    }
   ],
   "source": [
    "#여러가지 인코딩 데이터\n",
    "print(val.encode('latin1'))\n",
    "print(val.encode('utf-16'))\n",
    "print(val.encode('utf=16le'))"
   ]
  },
  {
   "cell_type": "code",
   "execution_count": 14,
   "metadata": {},
   "outputs": [
    {
     "name": "stdout",
     "output_type": "stream",
     "text": [
      "b'this is bytes'\n",
      "this is bytes\n"
     ]
    }
   ],
   "source": [
    "bytes_val =b'this is bytes' #bytes객체일경우 문자열 앞에 b를 붙인다\n",
    "print(bytes_val)\n",
    "\n",
    "decode = bytes_val.decode('utf8')\n",
    "print(decode) #str(유니코드) 타입"
   ]
  }
 ],
 "metadata": {
  "kernelspec": {
   "display_name": "Python 3",
   "language": "python",
   "name": "python3"
  },
  "language_info": {
   "codemirror_mode": {
    "name": "ipython",
    "version": 3
   },
   "file_extension": ".py",
   "mimetype": "text/x-python",
   "name": "python",
   "nbconvert_exporter": "python",
   "pygments_lexer": "ipython3",
   "version": "3.6.9"
  }
 },
 "nbformat": 4,
 "nbformat_minor": 2
}
