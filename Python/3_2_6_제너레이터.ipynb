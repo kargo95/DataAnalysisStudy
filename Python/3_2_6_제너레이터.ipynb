{
 "cells": [
  {
   "cell_type": "code",
   "execution_count": 2,
   "metadata": {},
   "outputs": [
    {
     "name": "stdout",
     "output_type": "stream",
     "text": [
      "a\n",
      "b\n",
      "c\n"
     ]
    }
   ],
   "source": [
    "some_dict={'a':1,'b':2,'c':3}\n",
    "for key in some_dict: #객체는 자료를 순회하는 방법을 제공, \n",
    "    print(key) #사전객체는 키가 반환된다\n",
    "#이터레이터 프로토콜을 이용해 순회가능한 객체를 만들 수 있다."
   ]
  },
  {
   "cell_type": "code",
   "execution_count": 4,
   "metadata": {},
   "outputs": [
    {
     "name": "stdout",
     "output_type": "stream",
     "text": [
      "<dict_keyiterator object at 0x0000028973916868>\n",
      "['a', 'b', 'c']\n"
     ]
    }
   ],
   "source": [
    "dict_iterator = iter(some_dict) #객체가 순회문(for)를 만나면 객체에서 이터레이터를 생성한다.\n",
    "print(dict_iterator)\n",
    "print(list(dict_iterator))"
   ]
  },
  {
   "cell_type": "code",
   "execution_count": 9,
   "metadata": {},
   "outputs": [
    {
     "name": "stdout",
     "output_type": "stream",
     "text": [
      "<generator object squares at 0x00000289737D6EB8>\n",
      "Generating squares from 1 to 100\n",
      "1 4 9 16 25 36 49 64 81 100 "
     ]
    }
   ],
   "source": [
    "#제너레이터로 순회 가능한 객체를 생성한다\n",
    "#제너레이터는 함수에서 return 을 하는대신 yield예약어를 사용한다\n",
    "def squares(n=10):\n",
    "    print('Generating squares from 1 to {0}'.format(n**2))\n",
    "    for i in range(1,n+1):\n",
    "        yield i**2\n",
    "\n",
    "gen = squares()\n",
    "print(gen) #제너레이터를 그냥 호출시 즉각 실행 안됨\n",
    "\n",
    "for x in gen: #제너레이터로부터 값을 요청해야 코드가 실행된다.\n",
    "    print(x,end=' ')"
   ]
  },
  {
   "cell_type": "code",
   "execution_count": 22,
   "metadata": {},
   "outputs": [
    {
     "name": "stdout",
     "output_type": "stream",
     "text": [
      "A ['Adam', 'Alan', 'Albert']\n",
      "S ['Steven']\n",
      "W ['Wes', 'Will']\n"
     ]
    }
   ],
   "source": [
    "#itertools 모듈은많은 제너레이터를 포함하고있다.\n",
    "import itertools\n",
    "\n",
    "#groupby : 함수를 받아 인자로 받은 함수에서 반환하는 값에따라 그룹을 지어준다\n",
    "first_letter = lambda x:x[0]\n",
    "names = ['Alan','Adam','Wes','Will','Albert','Steven']\n",
    "\n",
    "for letter,names in itertools.groupby(sorted(names),first_letter):\n",
    "    print(letter,list(names))\n"
   ]
  },
  {
   "cell_type": "code",
   "execution_count": 21,
   "metadata": {},
   "outputs": [
    {
     "name": "stdout",
     "output_type": "stream",
     "text": [
      "('alan', '홍길동')\n",
      "('alan', 'Adam')\n",
      "('alan', 'Albert')\n",
      "('홍길동', 'alan')\n",
      "('홍길동', 'Adam')\n",
      "('홍길동', 'Albert')\n",
      "('Adam', 'alan')\n",
      "('Adam', '홍길동')\n",
      "('Adam', 'Albert')\n",
      "('Albert', 'alan')\n",
      "('Albert', '홍길동')\n",
      "('Albert', 'Adam')\n",
      "--------------------------\n",
      "('alan', '홍길동')\n",
      "('alan', 'Adam')\n",
      "('alan', 'Albert')\n",
      "('홍길동', 'Adam')\n",
      "('홍길동', 'Albert')\n",
      "('Adam', 'Albert')\n"
     ]
    }
   ],
   "source": [
    "names = ['alan','홍길동','Adam','Albert']\n",
    "per = itertools.permutations(names,2)\n",
    "for p in per:\n",
    "    print(p)\n",
    "print(\"--------------------------\")\n",
    "com = itertools.combinations(names,2)\n",
    "for p in com:\n",
    "    print(p)"
   ]
  }
 ],
 "metadata": {
  "kernelspec": {
   "display_name": "Python 3",
   "language": "python",
   "name": "python3"
  },
  "language_info": {
   "codemirror_mode": {
    "name": "ipython",
    "version": 3
   },
   "file_extension": ".py",
   "mimetype": "text/x-python",
   "name": "python",
   "nbconvert_exporter": "python",
   "pygments_lexer": "ipython3",
   "version": "3.6.9"
  }
 },
 "nbformat": 4,
 "nbformat_minor": 2
}
